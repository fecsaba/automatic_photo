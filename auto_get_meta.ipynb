{
  "cells": [
    {
      "cell_type": "markdown",
      "metadata": {
        "colab_type": "text",
        "id": "view-in-github"
      },
      "source": [
        "<a href=\"https://colab.research.google.com/github/fecsaba/automatic_photo/blob/main/auto_get_meta.ipynb\" target=\"_parent\"><img src=\"https://colab.research.google.com/assets/colab-badge.svg\" alt=\"Open In Colab\"/></a>"
      ]
    },
    {
      "cell_type": "code",
      "execution_count": null,
      "metadata": {
        "id": "HvHKynrzwDI7",
        "vscode": {
          "languageId": "plaintext"
        }
      },
      "outputs": [],
      "source": [
        "# Csatoljuk a Google Drive-ot\n",
        "from google.colab import drive\n",
        "drive.mount('/content/drive')\n",
        "!pip install Pillow\n",
        "\n",
        "import os\n",
        "from PIL import PngImagePlugin, Image\n",
        "\n",
        "# Állítsd be a kép útvonalát (ha Drive-on van, a /content/drive/... szerint)\n",
        "image_path = '/content/drive/MyDrive/Image/Banner_00001_.png'  # például\n",
        "\n",
        "# Megnyitjuk a képet\n",
        "with Image.open(image_path) as img:\n",
        "    # A Pillow PngImagePlugin-je segítségével beolvassuk a text chunk-okat\n",
        "    if isinstance(img, PngImagePlugin.PngImageFile):\n",
        "        metadata = img.text\n",
        "        if metadata:\n",
        "            print(\"Metaadatok kulcsai és értékei:\\n\")\n",
        "            for k, v in metadata.items():\n",
        "                print(f\"**{k}**:\\n{v}\\n\")\n",
        "        else:\n",
        "            print(\"Nem találtunk metaadatokat a PNG text chunk-okban.\")\n",
        "    else:\n",
        "        print(\"Ez a fájl nem PNG, vagy nem PngImageFile típusú.\")\n"
      ]
    }
  ],
  "metadata": {
    "colab": {
      "include_colab_link": true,
      "provenance": []
    },
    "language_info": {
      "name": "python"
    }
  },
  "nbformat": 4,
  "nbformat_minor": 0
}
