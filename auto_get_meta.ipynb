{
  "cells": [
    {
      "cell_type": "markdown",
      "metadata": {
        "colab_type": "text",
        "id": "view-in-github"
      },
      "source": [
        "<a href=\"https://colab.research.google.com/github/fecsaba/automatic_photo/blob/main/auto_get_meta.ipynb\" target=\"_parent\"><img src=\"https://colab.research.google.com/assets/colab-badge.svg\" alt=\"Open In Colab\"/></a>"
      ]
    },
    {
      "cell_type": "markdown",
      "metadata": {
        "id": "_smXotz9jbOi"
      },
      "source": [
        "# **Drive**"
      ]
    },
    {
      "cell_type": "code",
      "execution_count": 2,
      "metadata": {
        "colab": {
          "base_uri": "https://localhost:8080/"
        },
        "id": "JoHRxG5jfEhE",
        "outputId": "63ef6ea0-1fb3-4421-af27-f702a4fda154"
      },
      "outputs": [
        {
          "name": "stdout",
          "output_type": "stream",
          "text": [
            "Mounted at /content/drive\n",
            "Collecting pypng\n",
            "  Downloading pypng-0.20220715.0-py3-none-any.whl.metadata (13 kB)\n",
            "Downloading pypng-0.20220715.0-py3-none-any.whl (58 kB)\n",
            "\u001b[2K   \u001b[90m━━━━━━━━━━━━━━━━━━━━━━━━━━━━━━━━━━━━━━━━\u001b[0m \u001b[32m58.1/58.1 kB\u001b[0m \u001b[31m2.7 MB/s\u001b[0m eta \u001b[36m0:00:00\u001b[0m\n",
            "\u001b[?25hInstalling collected packages: pypng\n",
            "Successfully installed pypng-0.20220715.0\n",
            "Requirement already satisfied: Pillow in /usr/local/lib/python3.11/dist-packages (11.1.0)\n"
          ]
        }
      ],
      "source": [
        "import os\n",
        "\n",
        "# Csatoljuk a Google Drive-ot\n",
        "from google.colab import drive\n",
        "drive.mount('/content/drive')\n",
        "!pip install pypng\n",
        "!pip install Pillow"
      ]
    },
    {
      "cell_type": "markdown",
      "metadata": {
        "id": "b2TPdc1HkLVO"
      },
      "source": [
        "# ***Action***\n",
        "\n",
        "```\n",
        "'/content/drive/MyDrive/Images'\n",
        "```\n",
        "\n"
      ]
    },
    {
      "cell_type": "code",
      "execution_count": null,
      "metadata": {
        "colab": {
          "base_uri": "https://localhost:8080/"
        },
        "id": "-a3_Q8BBVaRr",
        "outputId": "37765309-fe2c-450a-82a4-c8ccca173fe1"
      },
      "outputs": [],
      "source": [
        "from PIL import PngImagePlugin, Image\n",
        "import os\n",
        "\n",
        "class PngValidator:\n",
        "    \"\"\"PNG fájlok érvényességének ellenőrzésére szolgáló osztály\"\"\"\n",
        "\n",
        "    @staticmethod\n",
        "    def is_valid_png(file_path):\n",
        "        \"\"\"\n",
        "        Ellenőrzi, hogy a fájl valóban PNG formátumú-e\n",
        "\n",
        "        Args:\n",
        "            file_path (str): A vizsgálandó fájl útvonala\n",
        "\n",
        "        Returns:\n",
        "            bool: True ha a fájl valóban PNG, False ha nem\n",
        "        \"\"\"\n",
        "        try:\n",
        "            with Image.open(file_path) as img:\n",
        "                return isinstance(img, PngImagePlugin.PngImageFile) and img.format == 'PNG'\n",
        "        except Exception:\n",
        "            return False\n",
        "\n",
        "class PngFileHandler:\n",
        "    \"\"\"PNG fájlok és mappák kezelésére szolgáló osztály\"\"\"\n",
        "\n",
        "    def __init__(self, directory_path=None):\n",
        "        \"\"\"\n",
        "        Inicializálja az osztályt\n",
        "\n",
        "        Args:\n",
        "            directory_path (str, optional): A mappa elérési útja\n",
        "        \"\"\"\n",
        "        self.directory_path = directory_path\n",
        "\n",
        "    def set_directory_path(self, directory_path):\n",
        "        \"\"\"\n",
        "        Beállítja a feldolgozandó mappa útvonalát\n",
        "\n",
        "        Args:\n",
        "            directory_path (str): A mappa elérési útja\n",
        "        \"\"\"\n",
        "        self.directory_path = directory_path\n",
        "\n",
        "    def get_png_files(self):\n",
        "        \"\"\"\n",
        "        Összegyűjti az érvényes PNG fájlokat a megadott mappából\n",
        "\n",
        "        Returns:\n",
        "            list: Érvényes PNG fájlok útvonalainak listája\n",
        "        \"\"\"\n",
        "        if not self.directory_path:\n",
        "            print(\"Nincs megadva mappa útvonal!\")\n",
        "            return []\n",
        "\n",
        "        if not os.path.exists(self.directory_path):\n",
        "            print(f\"A megadott mappa nem létezik: {self.directory_path}\")\n",
        "            return []\n",
        "\n",
        "        png_files = []\n",
        "        for filename in os.listdir(self.directory_path):\n",
        "            file_path = os.path.join(self.directory_path, filename)\n",
        "            if PngValidator.is_valid_png(file_path):\n",
        "                png_files.append(file_path)\n",
        "            elif filename.lower().endswith('.png'):\n",
        "                print(f\"\\nFigyelmeztetés: A fájl '.png' kiterjesztésű, de nem valódi PNG: {filename}\")\n",
        "\n",
        "        return png_files\n",
        "\n",
        "class MetadataReader:\n",
        "    \"\"\"PNG fájlok metaadatainak olvasására szolgáló osztály\"\"\"\n",
        "\n",
        "    @staticmethod\n",
        "    def read_metadata(file_path):\n",
        "        \"\"\"\n",
        "        Beolvassa egy PNG fájl metaadatait\n",
        "\n",
        "        Args:\n",
        "            file_path (str): A PNG fájl útvonala\n",
        "\n",
        "        Returns:\n",
        "            dict: A metaadatok szótár formátumban, vagy None hiba esetén\n",
        "        \"\"\"\n",
        "        try:\n",
        "            with Image.open(file_path) as img:\n",
        "                metadata = img.text\n",
        "                if metadata:\n",
        "                    print(f\"\\nMetaadatok a következő fájlhoz: {os.path.basename(file_path)}\")\n",
        "                    print(\"-\" * 50)\n",
        "                    for k, v in metadata.items():\n",
        "                        print(f\"**{k}**:\\n{v}\\n\")\n",
        "                    return metadata\n",
        "                else:\n",
        "                    print(f\"\\nNem találtunk metaadatokat a következő fájlban: {os.path.basename(file_path)}\")\n",
        "                    return {}\n",
        "\n",
        "        except FileNotFoundError:\n",
        "            print(f\"A fájl nem található: {file_path}\")\n",
        "            return None\n",
        "        except Exception as e:\n",
        "            print(f\"Hiba történt a következő fájlnál {os.path.basename(file_path)}: {str(e)}\")\n",
        "            return None\n",
        "\n",
        "class PngMetadataProcessor:\n",
        "    \"\"\"PNG fájlok metaadatainak feldolgozására szolgáló fő osztály\"\"\"\n",
        "\n",
        "    def __init__(self, directory_path=None):\n",
        "        \"\"\"\n",
        "        Inicializálja az osztályt\n",
        "\n",
        "        Args:\n",
        "            directory_path (str, optional): A feldolgozandó mappa útvonala\n",
        "        \"\"\"\n",
        "        self.file_handler = PngFileHandler(directory_path)\n",
        "\n",
        "    def process_directory(self):\n",
        "        \"\"\"\n",
        "        Feldolgozza a megadott mappában található összes PNG fájlt\n",
        "\n",
        "        Returns:\n",
        "            dict: A fájlnevek és a hozzájuk tartozó metaadatok szótára\n",
        "        \"\"\"\n",
        "        print(f\"\\nPNG fájlok keresése a következő mappában: {self.file_handler.directory_path}\")\n",
        "        print(\"=\" * 70)\n",
        "\n",
        "        png_files = self.file_handler.get_png_files()\n",
        "        results = {}\n",
        "\n",
        "        for file_path in png_files:\n",
        "            metadata = MetadataReader.read_metadata(file_path)\n",
        "            if metadata:\n",
        "                results[os.path.basename(file_path)] = metadata\n",
        "\n",
        "        if not results:\n",
        "            print(\"\\nNem találtunk érvényes PNG fájlokat a megadott mappában.\")\n",
        "\n",
        "        return results\n",
        "\n",
        "# Példa használat\n",
        "if __name__ == \"__main__\":\n",
        "    processor = PngMetadataProcessor(\"/content/drive/MyDrive/Image/\")\n",
        "    all_metadata = processor.process_directory()\n",
        "\n",
        "    # Összesítés\n",
        "    if all_metadata:\n",
        "        print(\"\\nÖsszesítés:\")\n",
        "        print(\"=\" * 70)\n",
        "        print(f\"Összesen {len(all_metadata)} érvényes PNG fájl metaadatait olvastuk be.\")"
      ]
    }
  ],
  "metadata": {
    "colab": {
      "authorship_tag": "ABX9TyPuuRzLJ4rTLVrY/9R7ICoL",
      "include_colab_link": true,
      "provenance": []
    },
    "kernelspec": {
      "display_name": "Python 3",
      "name": "python3"
    },
    "language_info": {
      "name": "python"
    }
  },
  "nbformat": 4,
  "nbformat_minor": 0
}
