{
 "cells": [
  {
   "cell_type": "code",
   "execution_count": null,
   "metadata": {
    "vscode": {
     "languageId": "plaintext"
    }
   },
   "outputs": [],
   "source": [
    "import os\n",
    "from PIL import PngImagePlugin, Image\n",
    "\n",
    "# Állítsd be a kép útvonalát (ha Drive-on van, a /content/drive/... szerint)\n",
    "image_path = '/content/drive/MyDrive/Image/Banner_00001_.png'  # például\n",
    "\n",
    "# Megnyitjuk a képet\n",
    "with Image.open(image_path) as img:\n",
    "    # A Pillow PngImagePlugin-je segítségével beolvassuk a text chunk-okat\n",
    "    if isinstance(img, PngImagePlugin.PngImageFile):\n",
    "        metadata = img.text\n",
    "        if metadata:\n",
    "            print(\"Metaadatok kulcsai és értékei:\\n\")\n",
    "            for k, v in metadata.items():\n",
    "                print(f\"**{k}**:\\n{v}\\n\")\n",
    "        else:\n",
    "            print(\"Nem találtunk metaadatokat a PNG text chunk-okban.\")\n",
    "    else:\n",
    "        print(\"Ez a fájl nem PNG, vagy nem PngImageFile típusú.\")\n"
   ]
  }
 ],
 "metadata": {
  "language_info": {
   "name": "python"
  }
 },
 "nbformat": 4,
 "nbformat_minor": 2
}
